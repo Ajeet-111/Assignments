{
 "cells": [
  {
   "cell_type": "markdown",
   "metadata": {},
   "source": [
    "Write a Python function called is_palindrome that takes a string s as input and returns True if s is a palindrome (reads the same forwards and backwards), otherwise returns False.\n",
    "\n",
    "\n"
   ]
  },
  {
   "cell_type": "code",
   "execution_count": 14,
   "metadata": {},
   "outputs": [
    {
     "data": {
      "text/plain": [
       "False"
      ]
     },
     "execution_count": 14,
     "metadata": {},
     "output_type": "execute_result"
    }
   ],
   "source": [
    "s= input(\"enter a string\")\n",
    "\n",
    "def palindrome(y):\n",
    "\n",
    "    i=0\n",
    "    j=len(y)-1\n",
    "   \n",
    "\n",
    "    while i<j:\n",
    "\n",
    "       if y[i]!=y[j]:\n",
    "         return False\n",
    "\n",
    "       i=i+1\n",
    "       j=j-1   \n",
    "\n",
    "\n",
    "    return  True\n",
    "\n",
    "\n",
    "palindrome(s)\n",
    "\n"
   ]
  },
  {
   "cell_type": "markdown",
   "metadata": {},
   "source": [
    "Write a Python function called multiplication_table that takes an integer n as input and prints the multiplication table of n up to 10."
   ]
  },
  {
   "cell_type": "code",
   "execution_count": 53,
   "metadata": {},
   "outputs": [
    {
     "name": "stdout",
     "output_type": "stream",
     "text": [
      "3\n",
      "6\n",
      "9\n",
      "12\n",
      "15\n",
      "18\n",
      "21\n",
      "24\n",
      "27\n",
      "30\n"
     ]
    }
   ],
   "source": [
    "n=int(input(\"enter the number:\"))\n",
    "\n",
    "\n",
    "def multiplication_table(a):\n",
    "       i=0\n",
    "       for i in range(10):\n",
    "       \n",
    "        i+=1\n",
    "        z=a*i\n",
    "        print(z)\n",
    "\n",
    "multiplication_table(n)"
   ]
  },
  {
   "cell_type": "markdown",
   "metadata": {},
   "source": [
    "Write a Python function called right_triangle_pattern that takes an integer n as input and prints a right triangle pattern of n rows. Each row should contain i asterisks (*), where i is the row number.\n",
    "Example: For n = 5, the pattern should be:\n",
    "\n",
    "*\n",
    "* *\n",
    "* * *\n",
    "* * * *\n",
    "* * * * *\n"
   ]
  },
  {
   "cell_type": "code",
   "execution_count": 55,
   "metadata": {},
   "outputs": [
    {
     "name": "stdout",
     "output_type": "stream",
     "text": [
      "* \n",
      "* * \n",
      "* * * \n"
     ]
    }
   ],
   "source": [
    "n=int(input(\"enter an integer:\"))\n",
    "\n",
    "def right_triangle_pattern(w):\n",
    "    i=0\n",
    "    for i in range(n):\n",
    "        i+=1\n",
    "        z='* '*i\n",
    "        print(z)\n",
    "\n",
    "right_triangle_pattern(n)"
   ]
  },
  {
   "cell_type": "markdown",
   "metadata": {},
   "source": [
    "Write a python function called wordCounter that takes a string “S” as an input, and return the count of each character in word or in “S”.\n",
    "e.g pass S = “uplfairs pvt ltd”\n",
    "u -> 1\n",
    "p -> 2\n",
    "l ->  2\n",
    "and so on .\n"
   ]
  },
  {
   "cell_type": "code",
   "execution_count": 83,
   "metadata": {},
   "outputs": [
    {
     "name": "stdout",
     "output_type": "stream",
     "text": [
      "u --> 1\n",
      "p --> 2\n",
      "l --> 2\n",
      "f --> 1\n",
      "a --> 1\n",
      "i --> 1\n",
      "r --> 1\n",
      "s --> 1\n",
      "  --> 2\n",
      "v --> 1\n",
      "t --> 2\n",
      "d --> 1\n"
     ]
    }
   ],
   "source": [
    "S=input(\"enter a string\")\n",
    "\n",
    "def wordCounter(S):\n",
    "\n",
    "    dict={}\n",
    "    \n",
    "    for i in S:\n",
    "        \n",
    "        if i in dict:\n",
    "            dict[i]+=1\n",
    "            \n",
    "        \n",
    "        else:\n",
    "            dict[i]=1\n",
    "\n",
    "\n",
    "    for a in dict:\n",
    "        \n",
    "\n",
    "        print(a,\"-->\",dict[a])\n",
    "\n",
    "\n",
    "\n",
    "\n",
    "wordCounter(S)"
   ]
  },
  {
   "cell_type": "markdown",
   "metadata": {},
   "source": [
    "Write a Python function called calculator that takes three arguments: num1 (float), num2 (float), and operation (string). The function should perform the specified operation ('add', 'subtract', 'multiply', 'divide') on num1 and num2 and return the result\n",
    "\n"
   ]
  },
  {
   "cell_type": "code",
   "execution_count": 65,
   "metadata": {},
   "outputs": [
    {
     "data": {
      "text/plain": [
       "4.0"
      ]
     },
     "execution_count": 65,
     "metadata": {},
     "output_type": "execute_result"
    }
   ],
   "source": [
    "num1=float(input(\"enter an integer:\"))\n",
    "num2=float(input(\"enter an integer:\"))\n",
    "Operation=input(\"enter an operation:\")\n",
    "\n",
    "def calculator(Operation):\n",
    "\n",
    "    \n",
    "       if Operation==\"add\":\n",
    "        result=num1+num2\n",
    "\n",
    "       elif Operation==\"subtract\":\n",
    "        result=num1-num2\n",
    "\n",
    "       elif Operation==\"multiply\":\n",
    "        result=num1*num2\n",
    "\n",
    "       elif Operation==\"division\":\n",
    "        result=num1/num2\n",
    "\n",
    "       else:\n",
    "        result=\"choose a correct option.\"\n",
    "\n",
    "     \n",
    "       return result\n",
    "\n",
    "calculator(Operation)\n",
    "    "
   ]
  }
 ],
 "metadata": {
  "kernelspec": {
   "display_name": "Python 3",
   "language": "python",
   "name": "python3"
  },
  "language_info": {
   "codemirror_mode": {
    "name": "ipython",
    "version": 3
   },
   "file_extension": ".py",
   "mimetype": "text/x-python",
   "name": "python",
   "nbconvert_exporter": "python",
   "pygments_lexer": "ipython3",
   "version": "3.12.0"
  }
 },
 "nbformat": 4,
 "nbformat_minor": 2
}
